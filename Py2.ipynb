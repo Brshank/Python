{
  "nbformat": 4,
  "nbformat_minor": 0,
  "metadata": {
    "colab": {
      "name": "Py2.ipynb",
      "provenance": [],
      "authorship_tag": "ABX9TyMs1GsINm85Q1ceya2S+jjz",
      "include_colab_link": true
    },
    "kernelspec": {
      "name": "python3",
      "display_name": "Python 3"
    }
  },
  "cells": [
    {
      "cell_type": "markdown",
      "metadata": {
        "id": "view-in-github",
        "colab_type": "text"
      },
      "source": [
        "<a href=\"https://colab.research.google.com/github/Brshank/Python/blob/master/Py2.ipynb\" target=\"_parent\"><img src=\"https://colab.research.google.com/assets/colab-badge.svg\" alt=\"Open In Colab\"/></a>"
      ]
    },
    {
      "cell_type": "markdown",
      "metadata": {
        "id": "P1w28GAFTD0o"
      },
      "source": [
        ""
      ]
    },
    {
      "cell_type": "code",
      "metadata": {
        "colab": {
          "base_uri": "https://localhost:8080/"
        },
        "id": "tw5rA190TFFR",
        "outputId": "1dcae85a-6c7a-4799-8907-928cefff3b14"
      },
      "source": [
        "l=['Apple','Banana','Mango','Guava']\r\n",
        "print(*l,sep=\",\")\r\n",
        "print(*l,sep=\"\\n\")\r\n"
      ],
      "execution_count": 11,
      "outputs": [
        {
          "output_type": "stream",
          "text": [
            "Apple,Banana,Mango,Guava\n",
            "Apple\n",
            "Banana\n",
            "Mango\n",
            "Guava\n"
          ],
          "name": "stdout"
        }
      ]
    },
    {
      "cell_type": "markdown",
      "metadata": {
        "id": "d0mZ02ScU8KY"
      },
      "source": [
        "task 2\r\n"
      ]
    },
    {
      "cell_type": "code",
      "metadata": {
        "colab": {
          "base_uri": "https://localhost:8080/"
        },
        "id": "aVpow_yhU9YT",
        "outputId": "001a2448-ed48-457d-895d-1d5c794557e1"
      },
      "source": [
        "l=['Apple','Banana','Mango','Guava']\r\n",
        "string=''.join(l)\r\n",
        "print(string)"
      ],
      "execution_count": 23,
      "outputs": [
        {
          "output_type": "stream",
          "text": [
            "AppleBananaMangoGuava\n"
          ],
          "name": "stdout"
        }
      ]
    },
    {
      "cell_type": "markdown",
      "metadata": {
        "id": "-z3R-NCfWl3q"
      },
      "source": [
        "task3"
      ]
    },
    {
      "cell_type": "code",
      "metadata": {
        "colab": {
          "base_uri": "https://localhost:8080/"
        },
        "id": "w4i88z6mWoE5",
        "outputId": "ce021596-a7b0-41bb-bf2f-3a46cf646b1a"
      },
      "source": [
        "import math\r\n",
        "x=int(input(\"What would u like to convert=\\n 1.DegreetoRad \\n 2.RadiantoDeg\"))\r\n",
        "if x == 1:\r\n",
        "  degree=float(input(\"Enter value of Degrees=\"))\r\n",
        "  print(\"Degree To Rad= %0.2f\"%math.radians(degree))\r\n",
        "elif x == 2:\r\n",
        "  radian=float(input(\"Enter value of Radians=\"))\r\n",
        "  print(\"Rad To Degree= %0.2f\"%math.degrees(radian))\r\n"
      ],
      "execution_count": 34,
      "outputs": [
        {
          "output_type": "stream",
          "text": [
            "What would u like to convert=\n",
            " 1.DegreetoRad \n",
            " 2.RadiantoDeg2\n",
            "Enter value of Radians=2.09\n",
            "Degree To Rad= 119.75\n"
          ],
          "name": "stdout"
        }
      ]
    },
    {
      "cell_type": "markdown",
      "metadata": {
        "id": "4AEHGYtsZ6-U"
      },
      "source": [
        "Task 4\r\n"
      ]
    },
    {
      "cell_type": "code",
      "metadata": {
        "colab": {
          "base_uri": "https://localhost:8080/"
        },
        "id": "X-JEvVTfW3pi",
        "outputId": "d89edd59-b582-4d71-bbfd-0fee5fda5ab3"
      },
      "source": [
        "import math\r\n",
        "a=int(input(\"Side 1 of triangle=\"))\r\n",
        "b=int(input(\"Side 2 of triangle=\"))\r\n",
        "theta=float(input(\"Enter the value of an angle in that triangle=\"))\r\n",
        "rad_theta=math.radians(theta)\r\n",
        "sine=math.sin(rad_theta)\r\n",
        "cosine=math.cos(rad_theta)\r\n",
        "tangent=math.tan(rad_theta)\r\n",
        "hypotenuse=math.hypot(a,b)\r\n",
        "print('\\n',sine,'\\n',cosine,'\\n',tangent,'\\n',hypotenuse)"
      ],
      "execution_count": 44,
      "outputs": [
        {
          "output_type": "stream",
          "text": [
            "Side 1 of triangle=3 \n",
            "Side 2 of triangle=4\n",
            "Enter the value of an angle in that triangle=60\n",
            "\n",
            " 0.8660254037844386 \n",
            " 0.5000000000000001 \n",
            " 1.7320508075688767 \n",
            " 5.0\n"
          ],
          "name": "stdout"
        }
      ]
    },
    {
      "cell_type": "markdown",
      "metadata": {
        "id": "8whLH_uTd0LL"
      },
      "source": [
        "task 5\r\n"
      ]
    },
    {
      "cell_type": "code",
      "metadata": {
        "colab": {
          "base_uri": "https://localhost:8080/",
          "height": 235
        },
        "id": "Tj3wpfAid1Ns",
        "outputId": "a1c3e75a-3ccd-4aeb-b2ae-70685fd14dfd"
      },
      "source": [
        "import math\r\n",
        "a,b=map(float,input(\"enter two numbers=\").split())\r\n",
        "hcf=math.gcd(a,b)\r\n",
        "print(hcf)"
      ],
      "execution_count": 68,
      "outputs": [
        {
          "output_type": "stream",
          "text": [
            "enter two numbers=3.0 4.0\n"
          ],
          "name": "stdout"
        },
        {
          "output_type": "error",
          "ename": "TypeError",
          "evalue": "ignored",
          "traceback": [
            "\u001b[0;31m---------------------------------------------------------------------------\u001b[0m",
            "\u001b[0;31mTypeError\u001b[0m                                 Traceback (most recent call last)",
            "\u001b[0;32m<ipython-input-68-2a171a83ce34>\u001b[0m in \u001b[0;36m<module>\u001b[0;34m()\u001b[0m\n\u001b[1;32m      1\u001b[0m \u001b[0;32mimport\u001b[0m \u001b[0mmath\u001b[0m\u001b[0;34m\u001b[0m\u001b[0;34m\u001b[0m\u001b[0m\n\u001b[1;32m      2\u001b[0m \u001b[0ma\u001b[0m\u001b[0;34m,\u001b[0m\u001b[0mb\u001b[0m\u001b[0;34m=\u001b[0m\u001b[0mmap\u001b[0m\u001b[0;34m(\u001b[0m\u001b[0mfloat\u001b[0m\u001b[0;34m,\u001b[0m\u001b[0minput\u001b[0m\u001b[0;34m(\u001b[0m\u001b[0;34m\"enter two numbers=\"\u001b[0m\u001b[0;34m)\u001b[0m\u001b[0;34m.\u001b[0m\u001b[0msplit\u001b[0m\u001b[0;34m(\u001b[0m\u001b[0;34m)\u001b[0m\u001b[0;34m)\u001b[0m\u001b[0;34m\u001b[0m\u001b[0;34m\u001b[0m\u001b[0m\n\u001b[0;32m----> 3\u001b[0;31m \u001b[0mhcf\u001b[0m\u001b[0;34m=\u001b[0m\u001b[0mmath\u001b[0m\u001b[0;34m.\u001b[0m\u001b[0mgcd\u001b[0m\u001b[0;34m(\u001b[0m\u001b[0ma\u001b[0m\u001b[0;34m,\u001b[0m\u001b[0mb\u001b[0m\u001b[0;34m)\u001b[0m\u001b[0;34m\u001b[0m\u001b[0;34m\u001b[0m\u001b[0m\n\u001b[0m\u001b[1;32m      4\u001b[0m \u001b[0mprint\u001b[0m\u001b[0;34m(\u001b[0m\u001b[0mhcf\u001b[0m\u001b[0;34m)\u001b[0m\u001b[0;34m\u001b[0m\u001b[0;34m\u001b[0m\u001b[0m\n",
            "\u001b[0;31mTypeError\u001b[0m: 'float' object cannot be interpreted as an integer"
          ]
        }
      ]
    },
    {
      "cell_type": "code",
      "metadata": {
        "colab": {
          "base_uri": "https://localhost:8080/"
        },
        "id": "9Hbm9eT9e3EL",
        "outputId": "ca4c3cc7-caf9-4567-b11d-26b829a9d533"
      },
      "source": [
        "import math\r\n",
        "g=int(input(\"enter number for which you wan to find factorial=\"))\r\n",
        "gfact=math.factorial(g)\r\n",
        "print(gfact)"
      ],
      "execution_count": 46,
      "outputs": [
        {
          "output_type": "stream",
          "text": [
            "enter numebr for which you wan to find factorial=3\n",
            "6\n"
          ],
          "name": "stdout"
        }
      ]
    },
    {
      "cell_type": "code",
      "metadata": {
        "colab": {
          "base_uri": "https://localhost:8080/"
        },
        "id": "HQLPAzQme4mt",
        "outputId": "17c7d95e-8fef-4308-cb85-6599c57354b5"
      },
      "source": [
        "import math\r\n",
        "p=float(input(\"Enter a floating number of which you want to find absolute\"))\r\n",
        "pfabs=math.fabs(p)\r\n",
        "pabs=abs(p)\r\n",
        "print('pfabs=',pfabs)\r\n",
        "print('abs=',pabs)"
      ],
      "execution_count": 60,
      "outputs": [
        {
          "output_type": "stream",
          "text": [
            "Enter a floating number of which you want to find absolute-99\n",
            "pfabs= 99.0\n",
            "abs= 99.0\n"
          ],
          "name": "stdout"
        }
      ]
    },
    {
      "cell_type": "markdown",
      "metadata": {
        "id": "pwlUegpXhznN"
      },
      "source": [
        "task 6\r\n"
      ]
    },
    {
      "cell_type": "code",
      "metadata": {
        "colab": {
          "base_uri": "https://localhost:8080/"
        },
        "id": "psvPJ5K3h05L",
        "outputId": "35387eb0-578f-43d5-f129-cd9959b7f0d3"
      },
      "source": [
        "class_1=['Geoffrey Hinton','Andrew Ng','Sebastian Raschka','Yoshua Bengio']\r\n",
        "class_2=['Hilary Mason','Carla Gentry','Corinna Cortes']\r\n",
        "#new_class=(*class_1,*class_2)\r\n",
        "new_class=class_1+class_2\r\n",
        "print(new_class)\r\n",
        "print('after appending henry')\r\n",
        "new_class.insert(10,'Henry')\r\n",
        "print(new_class)\r\n"
      ],
      "execution_count": 83,
      "outputs": [
        {
          "output_type": "stream",
          "text": [
            "['Geoffrey Hinton', 'Andrew Ng', 'Sebastian Raschka', 'Yoshua Bengio', 'Hilary Mason', 'Carla Gentry', 'Corinna Cortes']\n",
            "after appending henry\n",
            "['Geoffrey Hinton', 'Andrew Ng', 'Sebastian Raschka', 'Yoshua Bengio', 'Hilary Mason', 'Carla Gentry', 'Corinna Cortes', 'Henry']\n"
          ],
          "name": "stdout"
        }
      ]
    }
  ]
}