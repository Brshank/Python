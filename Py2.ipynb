{
  "nbformat": 4,
  "nbformat_minor": 0,
  "metadata": {
    "colab": {
      "name": "Py2.ipynb",
      "provenance": [],
      "authorship_tag": "ABX9TyO1BoJV8v6K9Pk8IAqDeoiM",
      "include_colab_link": true
    },
    "kernelspec": {
      "name": "python3",
      "display_name": "Python 3"
    }
  },
  "cells": [
    {
      "cell_type": "markdown",
      "metadata": {
        "id": "view-in-github",
        "colab_type": "text"
      },
      "source": [
        "<a href=\"https://colab.research.google.com/github/Brshank/Python/blob/master/Py2.ipynb\" target=\"_parent\"><img src=\"https://colab.research.google.com/assets/colab-badge.svg\" alt=\"Open In Colab\"/></a>"
      ]
    },
    {
      "cell_type": "markdown",
      "metadata": {
        "id": "P1w28GAFTD0o"
      },
      "source": [
        ""
      ]
    },
    {
      "cell_type": "markdown",
      "metadata": {
        "id": "TmFxMhdd8jiu"
      },
      "source": [
        "Name:Brshank Singh Negi\r\n",
        "\r\n"
      ]
    },
    {
      "cell_type": "markdown",
      "metadata": {
        "id": "qmpO0mHD9h32"
      },
      "source": [
        "Roll No.\tI032"
      ]
    },
    {
      "cell_type": "markdown",
      "metadata": {
        "id": "iieSNXxj9j1O"
      },
      "source": [
        "\r\n",
        "Program:B.Tech CS AI"
      ]
    },
    {
      "cell_type": "markdown",
      "metadata": {
        "id": "F3CzZB699ltm"
      },
      "source": [
        "\r\n",
        "Division: 1"
      ]
    },
    {
      "cell_type": "markdown",
      "metadata": {
        "id": "s9Rmi3V39nVT"
      },
      "source": [
        "\r\n",
        "Semester:\t2"
      ]
    },
    {
      "cell_type": "markdown",
      "metadata": {
        "id": "sTF-F2iw9otd"
      },
      "source": [
        "\r\n",
        "Batch :prac2 "
      ]
    },
    {
      "cell_type": "markdown",
      "metadata": {
        "id": "WfEHAWZd9qBz"
      },
      "source": [
        "\r\n",
        "Date of Experiment: \t23|feb|2021"
      ]
    },
    {
      "cell_type": "code",
      "metadata": {
        "colab": {
          "base_uri": "https://localhost:8080/"
        },
        "id": "tw5rA190TFFR",
        "outputId": "1dcae85a-6c7a-4799-8907-928cefff3b14"
      },
      "source": [
        "l=['Apple','Banana','Mango','Guava']\r\n",
        "print(*l,sep=\",\")\r\n",
        "print(*l,sep=\"\\n\")\r\n"
      ],
      "execution_count": null,
      "outputs": [
        {
          "output_type": "stream",
          "text": [
            "Apple,Banana,Mango,Guava\n",
            "Apple\n",
            "Banana\n",
            "Mango\n",
            "Guava\n"
          ],
          "name": "stdout"
        }
      ]
    },
    {
      "cell_type": "markdown",
      "metadata": {
        "id": "d0mZ02ScU8KY"
      },
      "source": [
        "task 2\r\n"
      ]
    },
    {
      "cell_type": "code",
      "metadata": {
        "colab": {
          "base_uri": "https://localhost:8080/"
        },
        "id": "aVpow_yhU9YT",
        "outputId": "001a2448-ed48-457d-895d-1d5c794557e1"
      },
      "source": [
        "l=['Apple','Banana','Mango','Guava']\r\n",
        "string=''.join(l)\r\n",
        "print(string)"
      ],
      "execution_count": null,
      "outputs": [
        {
          "output_type": "stream",
          "text": [
            "AppleBananaMangoGuava\n"
          ],
          "name": "stdout"
        }
      ]
    },
    {
      "cell_type": "markdown",
      "metadata": {
        "id": "-z3R-NCfWl3q"
      },
      "source": [
        "task3"
      ]
    },
    {
      "cell_type": "code",
      "metadata": {
        "colab": {
          "base_uri": "https://localhost:8080/"
        },
        "id": "w4i88z6mWoE5",
        "outputId": "ce021596-a7b0-41bb-bf2f-3a46cf646b1a"
      },
      "source": [
        "import math\r\n",
        "x=int(input(\"What would u like to convert=\\n 1.DegreetoRad \\n 2.RadiantoDeg\"))\r\n",
        "if x == 1:\r\n",
        "  degree=float(input(\"Enter value of Degrees=\"))\r\n",
        "  print(\"Degree To Rad= %0.2f\"%math.radians(degree))\r\n",
        "elif x == 2:\r\n",
        "  radian=float(input(\"Enter value of Radians=\"))\r\n",
        "  print(\"Rad To Degree= %0.2f\"%math.degrees(radian))\r\n"
      ],
      "execution_count": null,
      "outputs": [
        {
          "output_type": "stream",
          "text": [
            "What would u like to convert=\n",
            " 1.DegreetoRad \n",
            " 2.RadiantoDeg2\n",
            "Enter value of Radians=2.09\n",
            "Degree To Rad= 119.75\n"
          ],
          "name": "stdout"
        }
      ]
    },
    {
      "cell_type": "markdown",
      "metadata": {
        "id": "4AEHGYtsZ6-U"
      },
      "source": [
        "Task 4\r\n"
      ]
    },
    {
      "cell_type": "code",
      "metadata": {
        "colab": {
          "base_uri": "https://localhost:8080/"
        },
        "id": "X-JEvVTfW3pi",
        "outputId": "d89edd59-b582-4d71-bbfd-0fee5fda5ab3"
      },
      "source": [
        "import math\r\n",
        "a=int(input(\"Side 1 of triangle=\"))\r\n",
        "b=int(input(\"Side 2 of triangle=\"))\r\n",
        "theta=float(input(\"Enter the value of an angle in that triangle=\"))\r\n",
        "rad_theta=math.radians(theta)\r\n",
        "sine=math.sin(rad_theta)\r\n",
        "cosine=math.cos(rad_theta)\r\n",
        "tangent=math.tan(rad_theta)\r\n",
        "hypotenuse=math.hypot(a,b)\r\n",
        "print('\\n',sine,'\\n',cosine,'\\n',tangent,'\\n',hypotenuse)"
      ],
      "execution_count": null,
      "outputs": [
        {
          "output_type": "stream",
          "text": [
            "Side 1 of triangle=3 \n",
            "Side 2 of triangle=4\n",
            "Enter the value of an angle in that triangle=60\n",
            "\n",
            " 0.8660254037844386 \n",
            " 0.5000000000000001 \n",
            " 1.7320508075688767 \n",
            " 5.0\n"
          ],
          "name": "stdout"
        }
      ]
    },
    {
      "cell_type": "markdown",
      "metadata": {
        "id": "8whLH_uTd0LL"
      },
      "source": [
        "task 5\r\n"
      ]
    },
    {
      "cell_type": "code",
      "metadata": {
        "colab": {
          "base_uri": "https://localhost:8080/"
        },
        "id": "Tj3wpfAid1Ns",
        "outputId": "4c96f91e-c54c-44b5-99cb-7893ed23c21a"
      },
      "source": [
        "import math\r\n",
        "a,b=map(int,input(\"enter two numbers=\").split())\r\n",
        "hcf=math.gcd(a,b)\r\n",
        "print(hcf)"
      ],
      "execution_count": null,
      "outputs": [
        {
          "output_type": "stream",
          "text": [
            "enter two numbers=90 30\n",
            "30\n"
          ],
          "name": "stdout"
        }
      ]
    },
    {
      "cell_type": "code",
      "metadata": {
        "colab": {
          "base_uri": "https://localhost:8080/"
        },
        "id": "9Hbm9eT9e3EL",
        "outputId": "69d98983-122f-4236-f13a-a4e841b0af2f"
      },
      "source": [
        "import math\r\n",
        "g=int(input(\"enter number for which you wan to find factorial=\"))\r\n",
        "gfact=math.factorial(g)\r\n",
        "print(gfact)"
      ],
      "execution_count": null,
      "outputs": [
        {
          "output_type": "stream",
          "text": [
            "enter number for which you wan to find factorial=6\n",
            "720\n"
          ],
          "name": "stdout"
        }
      ]
    },
    {
      "cell_type": "code",
      "metadata": {
        "colab": {
          "base_uri": "https://localhost:8080/"
        },
        "id": "HQLPAzQme4mt",
        "outputId": "17c7d95e-8fef-4308-cb85-6599c57354b5"
      },
      "source": [
        "import math\r\n",
        "p=float(input(\"Enter a floating number of which you want to find absolute\"))\r\n",
        "pfabs=math.fabs(p)\r\n",
        "pabs=abs(p)\r\n",
        "print('pfabs=',pfabs)\r\n",
        "print('abs=',pabs)"
      ],
      "execution_count": null,
      "outputs": [
        {
          "output_type": "stream",
          "text": [
            "Enter a floating number of which you want to find absolute-99\n",
            "pfabs= 99.0\n",
            "abs= 99.0\n"
          ],
          "name": "stdout"
        }
      ]
    },
    {
      "cell_type": "markdown",
      "metadata": {
        "id": "pwlUegpXhznN"
      },
      "source": [
        "task 6\r\n"
      ]
    },
    {
      "cell_type": "code",
      "metadata": {
        "colab": {
          "base_uri": "https://localhost:8080/",
          "height": 0
        },
        "id": "psvPJ5K3h05L",
        "outputId": "20e033ad-0c56-4d09-c025-e77ca9be64fb"
      },
      "source": [
        "class_1=['Geoffrey Hinton','Andrew Ng','Sebastian Raschka','Yoshua Bengio']\r\n",
        "class_2=['Hilary Mason','Carla Gentry','Corinna Cortes']\r\n",
        "#new_class=(*class_1,*class_2)\r\n",
        "new_class=class_1+class_2\r\n",
        "print('Task6(iv)=',new_class)\r\n",
        "new_class.insert(10,'Henry')\r\n",
        "print('Task6(v)=',new_class)\r\n",
        "new_class.remove('Henry')\r\n",
        "print('Task6(vi)=',new_class)\r\n",
        "Andrew=[98, 93, 90, 100, 92]\r\n",
        "Carla= [60, 65, 60, 75, 69]\r\n",
        "Hilary=[87, 50, 54, 77, 52]\r\n",
        "print('Task6(vii)=')\r\n",
        "print('Andrew Ng-',Andrew)\r\n",
        "print('Carla Gentry-',Carla)\r\n",
        "print('Hilary Mason-',Hilary)\r\n",
        "print('Task6(viii)=')\r\n",
        "print('Andrew =',sum(Andrew)/5,\"%\")\r\n",
        "print('Carla = ',sum(Carla)/5,\"%\")\r\n",
        "print('Hillary=',sum(Hilary)/5,\"%\")\r\n",
        "topper='Andrew Ng'\r\n",
        "print(topper.split(' '))\r\n",
        "full_name=topper.join(['',''])\r\n",
        "print(full_name)\r\n",
        "print(full_name.upper())\r\n",
        "\r\n"
      ],
      "execution_count": 31,
      "outputs": [
        {
          "output_type": "stream",
          "text": [
            "Task6(iv)= ['Geoffrey Hinton', 'Andrew Ng', 'Sebastian Raschka', 'Yoshua Bengio', 'Hilary Mason', 'Carla Gentry', 'Corinna Cortes']\n",
            "Task6(v)= ['Geoffrey Hinton', 'Andrew Ng', 'Sebastian Raschka', 'Yoshua Bengio', 'Hilary Mason', 'Carla Gentry', 'Corinna Cortes', 'Henry']\n",
            "Task6(vi)= ['Geoffrey Hinton', 'Andrew Ng', 'Sebastian Raschka', 'Yoshua Bengio', 'Hilary Mason', 'Carla Gentry', 'Corinna Cortes']\n",
            "Task6(vii)=\n",
            "Andrew Ng- [98, 93, 90, 100, 92]\n",
            "Carla Gentry- [60, 65, 60, 75, 69]\n",
            "Hilary Mason- [87, 50, 54, 77, 52]\n",
            "Task6(viii)=\n",
            "Andrew = 94.6 %\n",
            "Carla =  65.8 %\n",
            "Hillary= 64.0 %\n",
            "['Andrew', 'Ng']\n",
            "Andrew Ng\n",
            "ANDREW NG\n"
          ],
          "name": "stdout"
        }
      ]
    },
    {
      "cell_type": "code",
      "metadata": {
        "id": "NKoRKYprvqqN"
      },
      "source": [
        ""
      ],
      "execution_count": null,
      "outputs": []
    },
    {
      "cell_type": "markdown",
      "metadata": {
        "id": "u-4psGfDJhvN"
      },
      "source": [
        "**Task 7**"
      ]
    },
    {
      "cell_type": "code",
      "metadata": {
        "colab": {
          "base_uri": "https://localhost:8080/",
          "height": 0
        },
        "id": "WOSoON4EJkcp",
        "outputId": "b33b01ed-6d91-44b4-c1d3-6f122d9b4f7b"
      },
      "source": [
        "l=[3,4,2,34,6,8,7,65,44,2,10]\r\n",
        "l1=l.copy()\r\n",
        "print(l1)"
      ],
      "execution_count": 1,
      "outputs": [
        {
          "output_type": "stream",
          "text": [
            "[3, 4, 2, 34, 6, 8, 7, 65, 44, 2, 10]\n"
          ],
          "name": "stdout"
        }
      ]
    },
    {
      "cell_type": "code",
      "metadata": {
        "colab": {
          "base_uri": "https://localhost:8080/",
          "height": 0
        },
        "id": "4vo8ndS6v0Yq",
        "outputId": "5fdb68e3-93a1-43a0-c077-7ef89da4faf1"
      },
      "source": [
        "l=[]\r\n",
        "if len(l)==0:\r\n",
        "  print('list is Mty')\r\n",
        "else:\r\n",
        "  print('list is filled')\r\n"
      ],
      "execution_count": 14,
      "outputs": [
        {
          "output_type": "stream",
          "text": [
            "list is Mty\n"
          ],
          "name": "stdout"
        }
      ]
    },
    {
      "cell_type": "code",
      "metadata": {
        "colab": {
          "base_uri": "https://localhost:8080/",
          "height": 0
        },
        "id": "z8iB4WGzwJjV",
        "outputId": "9b0edefd-6255-4817-c7b9-de3a4f3e99ea"
      },
      "source": [
        "Tuple = (\"NMIMS\", [10, 20, 30], (5, 15, 25))\r\n",
        "x,y,z=Tuple\r\n",
        "print(y[1])\r\n",
        "print(x)\r\n",
        "print(y)\r\n",
        "print(z)"
      ],
      "execution_count": 19,
      "outputs": [
        {
          "output_type": "stream",
          "text": [
            "20\n",
            "NMIMS\n",
            "[10, 20, 30]\n",
            "(5, 15, 25)\n"
          ],
          "name": "stdout"
        }
      ]
    },
    {
      "cell_type": "markdown",
      "metadata": {
        "id": "gGoXYoQa3uKQ"
      },
      "source": [
        "**Task9**"
      ]
    },
    {
      "cell_type": "code",
      "metadata": {
        "colab": {
          "base_uri": "https://localhost:8080/",
          "height": 0
        },
        "id": "-1RXZRvQ3xQu",
        "outputId": "8d4d5438-ae26-4afc-9f91-85ca11b0e528"
      },
      "source": [
        "tuple1 = (11,22)\r\n",
        "tuple2 = (99,88)\r\n",
        "tuple1,tuple2 = tuple2,tuple1\r\n",
        "print('tuple1 is::',tuple1)\r\n",
        "print('tuple2 is::',tuple2)"
      ],
      "execution_count": 24,
      "outputs": [
        {
          "output_type": "stream",
          "text": [
            "tuple1 is:: (99, 88)\n",
            "tuple2 is:: (11, 22)\n"
          ],
          "name": "stdout"
        }
      ]
    },
    {
      "cell_type": "code",
      "metadata": {
        "colab": {
          "base_uri": "https://localhost:8080/",
          "height": 0
        },
        "id": "caYOpK7n5dVG",
        "outputId": "b471c524-ddaf-4303-dbef-a9a901a8e4a6"
      },
      "source": [
        "tuple1 = (11, [22, 33], 44, 55)\r\n",
        "x,y,z,p=tuple1\r\n",
        "tuple1[1][0]=2000\r\n",
        "print(y)"
      ],
      "execution_count": 27,
      "outputs": [
        {
          "output_type": "stream",
          "text": [
            "[2000, 33]\n"
          ],
          "name": "stdout"
        }
      ]
    },
    {
      "cell_type": "markdown",
      "metadata": {
        "id": "aF3XSuTB6LLP"
      },
      "source": [
        "**Task 10**"
      ]
    },
    {
      "cell_type": "code",
      "metadata": {
        "colab": {
          "base_uri": "https://localhost:8080/",
          "height": 0
        },
        "id": "4245SONp6OQ1",
        "outputId": "12915bce-01ec-4b66-cf70-da4910d59aff"
      },
      "source": [
        "tuple1 = (11, 22, 33, 44, 55, 11, 66, 11)\r\n",
        "tuple2=tuple1[3:-3]\r\n",
        "print(tuple2)\r\n",
        "print(tuple1.count(11))\r\n",
        "tuple1[::-1]"
      ],
      "execution_count": 41,
      "outputs": [
        {
          "output_type": "stream",
          "text": [
            "(44, 55)\n",
            "3\n"
          ],
          "name": "stdout"
        },
        {
          "output_type": "execute_result",
          "data": {
            "text/plain": [
              "(11, 66, 11, 55, 44, 33, 22, 11)"
            ]
          },
          "metadata": {
            "tags": []
          },
          "execution_count": 41
        }
      ]
    }
  ]
}